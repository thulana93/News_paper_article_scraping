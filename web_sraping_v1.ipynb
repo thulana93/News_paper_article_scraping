{
 "cells": [
  {
   "cell_type": "markdown",
   "id": "fd187b1c",
   "metadata": {},
   "source": [
    "    Tested URLs:\n",
    "        1. https://www.diepresse.com/13435394/hassverbrechen-sollen-kuenftig-kategorisiert-werden (diepresse)\n",
    "        2. https://kurier.at/chronik/welt/13-stoeckiges-gebaeude-in-aegypten-eingestuerzt/402500571 (kurier)\n",
    "        3. https://datum.at/wie-es-ist-von-wien-aus-maedchen-in-afghanistan-zu-unterrichten/ (datum)\n",
    "        4. https://www.nzz.ch/international/ukraine-krieg-prigoschins-revolte-bringt-china-in-eine-schwierige-lage-nzz-ld.1744360?reduced=true (nzz)"
   ]
  },
  {
   "cell_type": "markdown",
   "id": "c85d283f",
   "metadata": {},
   "source": [
    "Note: \n",
    "1. datum needs to be registred with some subcription fee, otherwise it will only gives first few lines.\n",
    "2. nzz also need registraion with some some subcription fee, but there are some free articles also. I tried with one of those but only scraping first few paras. I think this might be permission issue.\n",
    "3. Need to install selenium before run the programe\n",
    "4. replace the excecutable path with your excecutable path of your computer where selenium installed"
   ]
  },
  {
   "cell_type": "code",
   "execution_count": 46,
   "id": "da75cf1a",
   "metadata": {},
   "outputs": [],
   "source": [
    "from selenium import webdriver\n",
    "from selenium.webdriver.chrome.service import Service\n",
    "from selenium.webdriver.common.by import By\n",
    "from selenium.webdriver.chrome.options import Options\n",
    "from selenium.webdriver.support.ui import WebDriverWait"
   ]
  },
  {
   "cell_type": "code",
   "execution_count": 95,
   "id": "f96fcf7a",
   "metadata": {},
   "outputs": [],
   "source": [
    "def scraping():\n",
    "    url = input('Enter URL:')\n",
    "    options = Options()\n",
    "    options.headless = True\n",
    "    options.add_argument(\"--window-size=1920,1200\")\n",
    "    driver = webdriver.Chrome(options=options, executable_path='/usr/local/bin')\n",
    "    \n",
    "    \n",
    "    driver.get(url)\n",
    "    paragraphs = driver.find_elements(By.TAG_NAME, 'p')\n",
    "    lst = []\n",
    "    for p in paragraphs:\n",
    "        lst.append(p.text)\n",
    "    para ='\\n'.join(lst)\n",
    "    return para\n",
    "    driver.quit()"
   ]
  },
  {
   "cell_type": "code",
   "execution_count": 99,
   "id": "ed77ed5f",
   "metadata": {},
   "outputs": [
    {
     "name": "stdout",
     "output_type": "stream",
     "text": [
      "Enter URL:https://www.diepresse.com/13435394/hassverbrechen-sollen-kuenftig-kategorisiert-werden\n"
     ]
    },
    {
     "name": "stderr",
     "output_type": "stream",
     "text": [
      "/var/folders/nm/0kqqdhdj795byzw17d7bdmmw0000gn/T/ipykernel_20443/1126137208.py:4: DeprecationWarning: headless property is deprecated, instead use add_argument('--headless') or add_argument('--headless=new')\n",
      "  options.headless = True\n",
      "/var/folders/nm/0kqqdhdj795byzw17d7bdmmw0000gn/T/ipykernel_20443/1126137208.py:6: DeprecationWarning: executable_path has been deprecated, please pass in a Service object\n",
      "  driver = webdriver.Chrome(options=options, executable_path='/usr/local/bin')\n"
     ]
    },
    {
     "data": {
      "text/plain": [
       "'Hassverbrechen sollen künftig in genaueren Kategorien (Frauen, LGBTIQ+, etc.) erfasst werden. Das soll in Folge ein schnelleres Vorgehen der Polizei und der Justiz ermöglichen.\\nEin „Runder Tisch“ zu Hasskriminalität gegen LGBTIQ+-Personen heute im Justizministerium soll weitere Maßnahmen zur Prävention einleiten. So wird laut einer Aussendung des Ressorts eine technische Anpassung im IT-System der Justiz vollzogen, mit der es künftig auch möglich sein soll, Hassverbrechen in genaueren Kategorien (Frauen, LGBTIQ+, etc.) zu erfassen. Das soll in Folge ein schnelleres Vorgehen der Polizei und der Justiz ermöglichen.\\nIm Vorfeld des Austausches wurden rund 400 Akten der Staatsanwaltschaften nach den Verurteilungen, Freisprüchen, Einstellungen (und den dazugehörigen Deliktsgruppen) sowie dem Alter der Täter grob analysiert. In einem nächsten Schritt sollen diese Akten nun im Rahmen einer qualitativen Studie ausgewertet werden, um genauere Informationen zu den einzelnen Hassverbrechen, Tätern und Opfern zu bekommen und so wirkungsvollere Maßnahmen zum Schutz von Betroffenen erarbeiten zu können.\\nWeiters setzt man im Justizressort auf verstärkte Täterarbeit und umfangreiche Aus- und Fortbildungsprogramme im Bereich Hatecrimes für Richter und Staatsanwälte. Als wünschenswert erachtet man entsprechende Angebote auch im Bereich der Exekutive.\\nHass, Hetze und Verbrechen gegen Mitglieder der LGBTIQ+-Community seien leider noch immer traurige Realität, hatte Ressortchefin Alma Zadic (Grüne) schon zu Beginn der Veranstaltung gemeint, an der auch Vertreter von Innenministerium, Opferschutzeinrichtungen und der Community teilnahmen. Alle Menschen in Österreich hätten das Recht auf ein friedliches und gewaltfreies Leben - unabhängig von sexueller Orientierung oder Geschlechtsidentität, sozialer oder nationaler Herkunft, Hautfarbe oder Religion, betonte die Ministerin.\\nAuf den „Runden Tisch“ ist sie durchaus stolz. Es sei der erste, der den Fokus auf die Gewalt und Diskriminierung von LGBTIQ+-Personen lege und so einen wichtigen Beitrag zur Gleichstellung leiste.\\nZum „Das Wichtigste des Tages“ Newsletter anmelden\\nDer einzigartige Journalismus der Presse. Jeden Tag. Überall.\\nAbonnieren\\n\\n\\n\\n\\n\\n\\n'"
      ]
     },
     "execution_count": 99,
     "metadata": {},
     "output_type": "execute_result"
    }
   ],
   "source": [
    "scraping()"
   ]
  },
  {
   "cell_type": "code",
   "execution_count": null,
   "id": "8492fe09",
   "metadata": {},
   "outputs": [],
   "source": []
  }
 ],
 "metadata": {
  "kernelspec": {
   "display_name": "Python 3 (ipykernel)",
   "language": "python",
   "name": "python3"
  },
  "language_info": {
   "codemirror_mode": {
    "name": "ipython",
    "version": 3
   },
   "file_extension": ".py",
   "mimetype": "text/x-python",
   "name": "python",
   "nbconvert_exporter": "python",
   "pygments_lexer": "ipython3",
   "version": "3.10.9"
  }
 },
 "nbformat": 4,
 "nbformat_minor": 5
}
